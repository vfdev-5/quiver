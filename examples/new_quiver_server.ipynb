{
 "cells": [
  {
   "cell_type": "markdown",
   "metadata": {
    "deletable": true,
    "editable": true
   },
   "source": [
    "# New quiver server implementation\n",
    "\n",
    "Idea is to work directly with images as ndarrays without a specific image preprocessing. It is up to user to provide preprocessed images as it would be given to `model.predict` function.\n"
   ]
  },
  {
   "cell_type": "code",
   "execution_count": 1,
   "metadata": {
    "collapsed": false,
    "deletable": true,
    "editable": true
   },
   "outputs": [],
   "source": [
    "# https://ipython.org/ipython-doc/3/config/extensions/autoreload.html\n",
    "%load_ext autoreload\n",
    "%autoreload 2"
   ]
  },
  {
   "cell_type": "code",
   "execution_count": 2,
   "metadata": {
    "collapsed": true,
    "deletable": true,
    "editable": true
   },
   "outputs": [],
   "source": [
    "# Quiver\n",
    "import sys\n",
    "sys.path.append('../')\n",
    "from quiver_engine import new_server as server"
   ]
  },
  {
   "cell_type": "code",
   "execution_count": null,
   "metadata": {
    "collapsed": true,
    "deletable": true,
    "editable": true
   },
   "outputs": [],
   "source": []
  },
  {
   "cell_type": "markdown",
   "metadata": {
    "deletable": true,
    "editable": true
   },
   "source": [
    "Usage :"
   ]
  },
  {
   "cell_type": "code",
   "execution_count": 3,
   "metadata": {
    "collapsed": false,
    "deletable": true,
    "editable": true
   },
   "outputs": [
    {
     "name": "stderr",
     "output_type": "stream",
     "text": [
      "Using Theano backend.\n",
      "DEBUG: nvcc STDOUT mod.cu\n",
      "   Cr�ation de la biblioth�que C:/Users/victor.fomin/AppData/Local/Theano/compiledir_Windows-7-6.1.7601-SP1-Intel64_Family_6_Model_94_Stepping_3_GenuineIntel-2.7.11-64/tmpgryuy0/265abc51f7c376c224983485238ff1a5.lib et de l'objet C:/Users/victor.fomin/AppData/Local/Theano/compiledir_Windows-7-6.1.7601-SP1-Intel64_Family_6_Model_94_Stepping_3_GenuineIntel-2.7.11-64/tmpgryuy0/265abc51f7c376c224983485238ff1a5.exp\n",
      "\n",
      "Using gpu device 0: GeForce GTX 750 Ti (CNMeM is enabled with initial size: 70.0% of memory, cuDNN 4007)\n"
     ]
    }
   ],
   "source": [
    "# Keras\n",
    "from keras.models import Sequential\n",
    "from keras.layers import Dense, Flatten, Convolution2D, MaxPooling2D\n",
    "from keras.optimizers import SGD\n",
    "\n",
    "from keras.datasets import cifar10\n",
    "(X_train, y_train), (X_test, y_test) = cifar10.load_data()\n",
    "\n",
    "import matplotlib.pyplot as plt\n",
    "%matplotlib inline\n",
    "\n",
    "labels = [ 'airplane', 'automobile', 'bird', 'cat', 'deer', 'dog', 'frog', 'horse', 'ship', 'truck' ] \n",
    "\n",
    "# plt.figure(figsize=[12,10])\n",
    "# for i in range(12):\n",
    "#     plt.subplot(3,4,i+1)\n",
    "#     plt.xlabel(labels[int(y_train[i])])\n",
    "#     plt.imshow(X_train[i])"
   ]
  },
  {
   "cell_type": "code",
   "execution_count": 4,
   "metadata": {
    "collapsed": true,
    "deletable": true,
    "editable": true
   },
   "outputs": [],
   "source": [
    "# CNN : Conv3x3 -> Pool -> Dense\n",
    "model = Sequential()\n",
    "model.add(Convolution2D(12, 3, 3, activation='relu', input_shape=(32, 32, 3)))\n",
    "model.add(MaxPooling2D(pool_size=(2, 2)))\n",
    "model.add(Flatten())\n",
    "model.add(Dense(20, activation='relu'))\n",
    "model.add(Dense(10, activation='softmax'))\n",
    "\n",
    "sgd = SGD(lr=0.01)\n",
    "model.compile(optimizer=sgd,\n",
    "              loss='categorical_crossentropy',\n",
    "              metrics=['accuracy'])"
   ]
  },
  {
   "cell_type": "code",
   "execution_count": null,
   "metadata": {
    "collapsed": true,
    "deletable": true,
    "editable": true
   },
   "outputs": [],
   "source": []
  },
  {
   "cell_type": "code",
   "execution_count": 5,
   "metadata": {
    "collapsed": false,
    "deletable": true,
    "editable": true
   },
   "outputs": [
    {
     "name": "stdout",
     "output_type": "stream",
     "text": [
      "('-- launch : ', True)\n",
      "('Starting webserver from:', 'F:\\\\vfomin\\\\MyExamples\\\\dl\\\\quiver\\\\quiver_engine')\n",
      "('--- App: ', <Flask 'quiver_engine.new_server'>, 119591208L)\n"
     ]
    },
    {
     "name": "stderr",
     "output_type": "stream",
     "text": [
      "127.0.0.1 - - [2017-02-23 17:59:46] \"GET /model HTTP/1.1\" 200 2265 0.004000\n",
      "127.0.0.1 - - [2017-02-23 17:59:46] \"GET /inputs HTTP/1.1\" 200 182 0.002000\n",
      "127.0.0.1 - - [2017-02-23 18:01:18] \"GET /predict/0 HTTP/1.1\" 404 374 0.030000\n",
      "127.0.0.1 - - [2017-02-23 18:01:18] \"GET /layer/convolution2d_1/0 HTTP/1.1\" 404 374 0.001000\n",
      "127.0.0.1 - - [2017-02-23 18:01:37] \"GET / HTTP/1.1\" 304 213 0.096000\n",
      "127.0.0.1 - - [2017-02-23 18:01:38] \"GET /model HTTP/1.1\" 200 2265 0.001000\n",
      "127.0.0.1 - - [2017-02-23 18:01:38] \"GET /inputs HTTP/1.1\" 200 182 0.000000\n",
      "127.0.0.1 - - [2017-02-23 18:01:43] \"GET /predict/0 HTTP/1.1\" 404 374 0.001000\n",
      "127.0.0.1 - - [2017-02-23 18:01:43] \"GET /layer/convolution2d_1/0 HTTP/1.1\" 404 374 0.001000\n",
      "KeyboardInterrupt\n"
     ]
    }
   ],
   "source": [
    "server.launch(model=model, inputs=X_train[:5], classes=labels)"
   ]
  },
  {
   "cell_type": "code",
   "execution_count": null,
   "metadata": {
    "collapsed": true,
    "deletable": true,
    "editable": true
   },
   "outputs": [],
   "source": []
  },
  {
   "cell_type": "code",
   "execution_count": null,
   "metadata": {
    "collapsed": true,
    "deletable": true,
    "editable": true
   },
   "outputs": [],
   "source": []
  },
  {
   "cell_type": "code",
   "execution_count": null,
   "metadata": {
    "collapsed": true,
    "deletable": true,
    "editable": true
   },
   "outputs": [],
   "source": []
  },
  {
   "cell_type": "code",
   "execution_count": null,
   "metadata": {
    "collapsed": true,
    "deletable": true,
    "editable": true
   },
   "outputs": [],
   "source": []
  },
  {
   "cell_type": "code",
   "execution_count": null,
   "metadata": {
    "collapsed": true,
    "deletable": true,
    "editable": true
   },
   "outputs": [],
   "source": []
  }
 ],
 "metadata": {
  "kernelspec": {
   "display_name": "Python 2",
   "language": "python",
   "name": "python2"
  },
  "language_info": {
   "codemirror_mode": {
    "name": "ipython",
    "version": 2
   },
   "file_extension": ".py",
   "mimetype": "text/x-python",
   "name": "python",
   "nbconvert_exporter": "python",
   "pygments_lexer": "ipython2",
   "version": "2.7.11"
  }
 },
 "nbformat": 4,
 "nbformat_minor": 2
}
